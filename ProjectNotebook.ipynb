{
 "cells": [
  {
   "cell_type": "markdown",
   "metadata": {},
   "source": [
    "# Project Description\n",
    "My project is a short text adventure, with focus on simulating combat inspired by Dungeons & Dragons. \n",
    "The user is able to pick from three total class options. Barbarian's have the most health but weakest attacks, Ranger's lay somewhere in the middle, and Wizard's have the least health but strongest attacks. Each class has a unique set of 3 attacks, as well as all carrying a similar number of health potions. \n",
    "\n",
    "There are three total difficulties: Easy, Medium, and Hard. \n",
    "The difference between them is the total number of encounters that must be completed in order to \"beat the game\". Easy contains 1 monster encounter, Medium contains 3, and Hard contains 5. The game scales up rather significantly and I tried my best to somewhat balance the numbers out to make Hard fairly challenging. \n",
    "\n",
    "With that being said I recommend playing on Easy for the sake of grading and generally seeing the flow of the game. Otherwise the Wizard also possesses a \"Test\" skill which will instantly kill the monsters if you wish to observe all of the encounters on the different difficulties. \n",
    "\n",
    "I had a lot of fun making this project, and I hope you enjoy it!"
   ]
  },
  {
   "cell_type": "markdown",
   "metadata": {},
   "source": [
    "# Project Code"
   ]
  },
  {
   "cell_type": "code",
   "execution_count": null,
   "metadata": {},
   "outputs": [],
   "source": [
    "%run Main"
   ]
  },
  {
   "cell_type": "markdown",
   "metadata": {},
   "source": [
    "# Extra Credit\n",
    "Prior to taking this course I had virtually no experience in coding, I had done some very simple things in the past but nothing to the level of this class at all. Fully implementing the ideas I had for a D&D style game was significantly more work than I had initially anticipated but I am very proud with the finished result! I believe I have gone above and beyond in primarily teaching myself how to parse through user input as well as working fairly extensively with concepts like loops, dictionaries, conditionals, classes, and methods."
   ]
  }
 ],
 "metadata": {
  "kernelspec": {
   "display_name": "Python 3 (clean)",
   "language": "python",
   "name": "python3_clean"
  },
  "language_info": {
   "codemirror_mode": {
    "name": "ipython",
    "version": 3
   },
   "file_extension": ".py",
   "mimetype": "text/x-python",
   "name": "python",
   "nbconvert_exporter": "python",
   "pygments_lexer": "ipython3",
   "version": "3.7.6"
  }
 },
 "nbformat": 4,
 "nbformat_minor": 4
}
